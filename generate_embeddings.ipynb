{
 "cells": [
  {
   "cell_type": "code",
   "execution_count": 11,
   "metadata": {},
   "outputs": [],
   "source": [
    "import os\n",
    "from os.path import join\n",
    "\n",
    "import fasttext as ft\n",
    "import gensim"
   ]
  },
  {
   "cell_type": "markdown",
   "metadata": {},
   "source": [
    "# Params"
   ]
  },
  {
   "cell_type": "code",
   "execution_count": 12,
   "metadata": {},
   "outputs": [],
   "source": [
    "dim = 256\n",
    "stem = False"
   ]
  },
  {
   "cell_type": "code",
   "execution_count": 13,
   "metadata": {},
   "outputs": [],
   "source": [
    "os.makedirs(\"embeddings\", exist_ok=True)\n",
    "data_folder = join(\"data\", \"SMADC\")"
   ]
  },
  {
   "cell_type": "code",
   "execution_count": 14,
   "metadata": {},
   "outputs": [],
   "source": [
    "if stem:\n",
    "    from farasa.stemmer import FarasaStemmer\n",
    "\n",
    "    files = [\n",
    "        \"GLF.txt\",\n",
    "        \"EGY.txt\",\n",
    "        \"IRQ.txt\",\n",
    "        \"NOR.txt\",\n",
    "        \"LEV.txt\"\n",
    "    ]\n",
    "\n",
    "    texts = []\n",
    "\n",
    "    for file in files:\n",
    "        with open(join(data_folder, file), encoding=\"utf8\") as file:\n",
    "            texts.append(file.read())\n",
    "\n",
    "    stemmer = FarasaStemmer()\n",
    "    stemmed_texts = [stemmer.stem(text) for text in texts]\n",
    "    \n",
    "    embedding_GLF = ft.train_unsupervised(stemmed_texts[0], dim=dim)\n",
    "    embedding_EGY = ft.train_unsupervised(stemmed_texts[1], dim=dim)\n",
    "    embedding_IRQ = ft.train_unsupervised(stemmed_texts[2], dim=dim)\n",
    "    embedding_NOR = ft.train_unsupervised(stemmed_texts[3], dim=dim)\n",
    "    embedding_LEV = ft.train_unsupervised(stemmed_texts[4], dim=dim)\n",
    "else:\n",
    "    embedding_GLF = ft.train_unsupervised(join(data_folder, \"GLF.txt\"), dim=dim)\n",
    "    embedding_EGY = ft.train_unsupervised(join(data_folder, \"EGY.txt\"), dim=dim)\n",
    "    embedding_IRQ = ft.train_unsupervised(join(data_folder, \"IRQ.txt\"), dim=dim)\n",
    "    embedding_NOR = ft.train_unsupervised(join(data_folder, \"NOR.txt\"), dim=dim)\n",
    "    embedding_LEV = ft.train_unsupervised(join(data_folder, \"Lev.txt\"), dim=dim)\n"
   ]
  },
  {
   "cell_type": "code",
   "execution_count": null,
   "metadata": {},
   "outputs": [],
   "source": [
    "embedding_GLF.save_model(\"embeddings/embedding_GLF.bin\")\n",
    "embedding_EGY.save_model(\"embeddings/embedding_EGY.bin\")\n",
    "embedding_IRQ.save_model(\"embeddings/embedding_IRQ.bin\")\n",
    "embedding_NOR.save_model(\"embeddings/embedding_NOR.bin\")\n",
    "embedding_LEV.save_model(\"embeddings/embedding_LEV.bin\")"
   ]
  },
  {
   "cell_type": "code",
   "execution_count": null,
   "metadata": {},
   "outputs": [
    {
     "name": "stderr",
     "output_type": "stream",
     "text": [
      "C:\\Users\\mohnd\\AppData\\Local\\Temp/ipykernel_3356/141067566.py:1: DeprecationWarning: Call to deprecated `load_fasttext_format` (use load_facebook_vectors (to use pretrained embeddings) or load_facebook_model (to continue training with the loaded full model, more RAM) instead).\n",
      "  gensim.models.FastText.load_fasttext_format('embeddings/embedding_GLF.bin').wv.save_word2vec_format(\"embeddings/glf.vec\", binary=False)\n",
      "C:\\Users\\mohnd\\AppData\\Local\\Temp/ipykernel_3356/141067566.py:2: DeprecationWarning: Call to deprecated `load_fasttext_format` (use load_facebook_vectors (to use pretrained embeddings) or load_facebook_model (to continue training with the loaded full model, more RAM) instead).\n",
      "  gensim.models.FastText.load_fasttext_format('embeddings/embedding_EGY.bin').wv.save_word2vec_format(\"embeddings/egy.vec\", binary=False)\n",
      "C:\\Users\\mohnd\\AppData\\Local\\Temp/ipykernel_3356/141067566.py:3: DeprecationWarning: Call to deprecated `load_fasttext_format` (use load_facebook_vectors (to use pretrained embeddings) or load_facebook_model (to continue training with the loaded full model, more RAM) instead).\n",
      "  gensim.models.FastText.load_fasttext_format('embeddings/embedding_IRQ.bin').wv.save_word2vec_format(\"embeddings/irq.vec\", binary=False)\n",
      "C:\\Users\\mohnd\\AppData\\Local\\Temp/ipykernel_3356/141067566.py:4: DeprecationWarning: Call to deprecated `load_fasttext_format` (use load_facebook_vectors (to use pretrained embeddings) or load_facebook_model (to continue training with the loaded full model, more RAM) instead).\n",
      "  gensim.models.FastText.load_fasttext_format('embeddings/embedding_NOR.bin').wv.save_word2vec_format(\"embeddings/nor.vec\", binary=False)\n",
      "C:\\Users\\mohnd\\AppData\\Local\\Temp/ipykernel_3356/141067566.py:5: DeprecationWarning: Call to deprecated `load_fasttext_format` (use load_facebook_vectors (to use pretrained embeddings) or load_facebook_model (to continue training with the loaded full model, more RAM) instead).\n",
      "  gensim.models.FastText.load_fasttext_format('embeddings/embedding_LEV.bin').wv.save_word2vec_format(\"embeddings/lev.vec\", binary=False)\n"
     ]
    }
   ],
   "source": [
    "gensim.models.FastText.load_fasttext_format('embeddings/embedding_GLF.bin').wv.save_word2vec_format(\"embeddings/glf.vec\", binary=False)\n",
    "gensim.models.FastText.load_fasttext_format('embeddings/embedding_EGY.bin').wv.save_word2vec_format(\"embeddings/egy.vec\", binary=False)\n",
    "gensim.models.FastText.load_fasttext_format('embeddings/embedding_IRQ.bin').wv.save_word2vec_format(\"embeddings/irq.vec\", binary=False)\n",
    "gensim.models.FastText.load_fasttext_format('embeddings/embedding_NOR.bin').wv.save_word2vec_format(\"embeddings/nor.vec\", binary=False)\n",
    "gensim.models.FastText.load_fasttext_format('embeddings/embedding_LEV.bin').wv.save_word2vec_format(\"embeddings/lev.vec\", binary=False)"
   ]
  }
 ],
 "metadata": {
  "interpreter": {
   "hash": "b146cda2b5e37bb330cb0c5ca2b4b0706c5eef902c6118ca3e1c5f676b50d986"
  },
  "kernelspec": {
   "display_name": "Python 3.10.4 ('emotion_research')",
   "language": "python",
   "name": "python3"
  },
  "language_info": {
   "codemirror_mode": {
    "name": "ipython",
    "version": 3
   },
   "file_extension": ".py",
   "mimetype": "text/x-python",
   "name": "python",
   "nbconvert_exporter": "python",
   "pygments_lexer": "ipython3",
   "version": "3.10.4"
  },
  "orig_nbformat": 4
 },
 "nbformat": 4,
 "nbformat_minor": 2
}
