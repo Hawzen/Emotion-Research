{
 "cells": [
  {
   "cell_type": "code",
   "execution_count": 321,
   "metadata": {},
   "outputs": [],
   "source": [
    "from glob import glob\n",
    "from pathlib import Path\n",
    "\n",
    "import pandas as pd\n",
    "from sklearn.naive_bayes import MultinomialNB\n",
    "from sklearn.feature_extraction.text import TfidfTransformer, CountVectorizer\n",
    "from sklearn.pipeline import Pipeline\n",
    "from sklearn.preprocessing import OneHotEncoder\n",
    "\n",
    "from utilities import *\n",
    "\n",
    "pd.set_option('display.max_rows', 500)\n"
   ]
  },
  {
   "cell_type": "markdown",
   "metadata": {},
   "source": [
    "### Import data"
   ]
  },
  {
   "cell_type": "code",
   "execution_count": 28,
   "metadata": {},
   "outputs": [],
   "source": [
    "data = {\n",
    "    \"smadc\": get_SMADC_folder_data(),\n",
    "    \"annotated\": get_annotated_data_folder_data(),\n",
    "    \"dart\": get_dart_folder_data(),\n",
    "    \"aoc\": get_arabic_dialects_dataset_folder_data(),\n",
    "}"
   ]
  },
  {
   "cell_type": "markdown",
   "metadata": {},
   "source": [
    "### Import lexicons"
   ]
  },
  {
   "cell_type": "code",
   "execution_count": 152,
   "metadata": {},
   "outputs": [
    {
     "data": {
      "text/plain": [
       "array(['anger', 'disgust', 'fear', 'joy', 'sadness', 'surprise'],\n",
       "      dtype=object)"
      ]
     },
     "execution_count": 152,
     "metadata": {},
     "output_type": "execute_result"
    }
   ],
   "source": [
    "pd.DataFrame.from_dict(get_arabic_lexicon_data(), orient=\"index\").T.columns.values"
   ]
  },
  {
   "cell_type": "code",
   "execution_count": 164,
   "metadata": {},
   "outputs": [
    {
     "data": {
      "text/html": [
       "<div>\n",
       "<style scoped>\n",
       "    .dataframe tbody tr th:only-of-type {\n",
       "        vertical-align: middle;\n",
       "    }\n",
       "\n",
       "    .dataframe tbody tr th {\n",
       "        vertical-align: top;\n",
       "    }\n",
       "\n",
       "    .dataframe thead th {\n",
       "        text-align: right;\n",
       "    }\n",
       "</style>\n",
       "<table border=\"1\" class=\"dataframe\">\n",
       "  <thead>\n",
       "    <tr style=\"text-align: right;\">\n",
       "      <th></th>\n",
       "      <th>variable</th>\n",
       "      <th>value</th>\n",
       "    </tr>\n",
       "  </thead>\n",
       "  <tbody>\n",
       "    <tr>\n",
       "      <th>0</th>\n",
       "      <td>joy</td>\n",
       "      <td>عبادة</td>\n",
       "    </tr>\n",
       "    <tr>\n",
       "      <th>1</th>\n",
       "      <td>joy</td>\n",
       "      <td>عبادة</td>\n",
       "    </tr>\n",
       "    <tr>\n",
       "      <th>2</th>\n",
       "      <td>joy</td>\n",
       "      <td>توقير</td>\n",
       "    </tr>\n",
       "    <tr>\n",
       "      <th>3</th>\n",
       "      <td>joy</td>\n",
       "      <td>تمجيد</td>\n",
       "    </tr>\n",
       "    <tr>\n",
       "      <th>4</th>\n",
       "      <td>joy</td>\n",
       "      <td>تبجيل</td>\n",
       "    </tr>\n",
       "    <tr>\n",
       "      <th>...</th>\n",
       "      <td>...</td>\n",
       "      <td>...</td>\n",
       "    </tr>\n",
       "    <tr>\n",
       "      <th>10692</th>\n",
       "      <td>anger</td>\n",
       "      <td>قتله</td>\n",
       "    </tr>\n",
       "    <tr>\n",
       "      <th>10693</th>\n",
       "      <td>anger</td>\n",
       "      <td>الضحيّة</td>\n",
       "    </tr>\n",
       "    <tr>\n",
       "      <th>10694</th>\n",
       "      <td>anger</td>\n",
       "      <td>الشر</td>\n",
       "    </tr>\n",
       "    <tr>\n",
       "      <th>10695</th>\n",
       "      <td>anger</td>\n",
       "      <td>العدوات</td>\n",
       "    </tr>\n",
       "    <tr>\n",
       "      <th>10696</th>\n",
       "      <td>anger</td>\n",
       "      <td>قتلي</td>\n",
       "    </tr>\n",
       "  </tbody>\n",
       "</table>\n",
       "<p>5033 rows × 2 columns</p>\n",
       "</div>"
      ],
      "text/plain": [
       "      variable    value\n",
       "0          joy    عبادة\n",
       "1          joy    عبادة\n",
       "2          joy    توقير\n",
       "3          joy    تمجيد\n",
       "4          joy    تبجيل\n",
       "...        ...      ...\n",
       "10692    anger     قتله\n",
       "10693    anger  الضحيّة\n",
       "10694    anger     الشر\n",
       "10695    anger  العدوات\n",
       "10696    anger     قتلي\n",
       "\n",
       "[5033 rows x 2 columns]"
      ]
     },
     "execution_count": 164,
     "metadata": {},
     "output_type": "execute_result"
    }
   ],
   "source": []
  },
  {
   "cell_type": "code",
   "execution_count": 387,
   "metadata": {},
   "outputs": [
    {
     "name": "stderr",
     "output_type": "stream",
     "text": [
      "d:\\Softwarez\\Anaconda\\envs\\emotion_research\\lib\\site-packages\\numpy\\core\\fromnumeric.py:3199: VisibleDeprecationWarning: Creating an ndarray from ragged nested sequences (which is a list-or-tuple of lists-or-tuples-or ndarrays with different lengths or shapes) is deprecated. If you meant to do this, you must specify 'dtype=object' when creating the ndarray.\n",
      "  return asarray(a).ndim\n",
      "d:\\Softwarez\\Anaconda\\envs\\emotion_research\\lib\\site-packages\\numpy\\core\\fromnumeric.py:2007: VisibleDeprecationWarning: Creating an ndarray from ragged nested sequences (which is a list-or-tuple of lists-or-tuples-or ndarrays with different lengths or shapes) is deprecated. If you meant to do this, you must specify 'dtype=object' when creating the ndarray.\n",
      "  result = asarray(a).shape\n",
      "d:\\Softwarez\\Anaconda\\envs\\emotion_research\\lib\\site-packages\\numpy\\core\\fromnumeric.py:3199: VisibleDeprecationWarning: Creating an ndarray from ragged nested sequences (which is a list-or-tuple of lists-or-tuples-or ndarrays with different lengths or shapes) is deprecated. If you meant to do this, you must specify 'dtype=object' when creating the ndarray.\n",
      "  return asarray(a).ndim\n",
      "d:\\Softwarez\\Anaconda\\envs\\emotion_research\\lib\\site-packages\\numpy\\core\\fromnumeric.py:2007: VisibleDeprecationWarning: Creating an ndarray from ragged nested sequences (which is a list-or-tuple of lists-or-tuples-or ndarrays with different lengths or shapes) is deprecated. If you meant to do this, you must specify 'dtype=object' when creating the ndarray.\n",
      "  result = asarray(a).shape\n",
      "d:\\Softwarez\\Anaconda\\envs\\emotion_research\\lib\\site-packages\\numpy\\core\\fromnumeric.py:3199: VisibleDeprecationWarning: Creating an ndarray from ragged nested sequences (which is a list-or-tuple of lists-or-tuples-or ndarrays with different lengths or shapes) is deprecated. If you meant to do this, you must specify 'dtype=object' when creating the ndarray.\n",
      "  return asarray(a).ndim\n",
      "d:\\Softwarez\\Anaconda\\envs\\emotion_research\\lib\\site-packages\\numpy\\core\\fromnumeric.py:2007: VisibleDeprecationWarning: Creating an ndarray from ragged nested sequences (which is a list-or-tuple of lists-or-tuples-or ndarrays with different lengths or shapes) is deprecated. If you meant to do this, you must specify 'dtype=object' when creating the ndarray.\n",
      "  result = asarray(a).shape\n",
      "d:\\Softwarez\\Anaconda\\envs\\emotion_research\\lib\\site-packages\\numpy\\core\\fromnumeric.py:3199: VisibleDeprecationWarning: Creating an ndarray from ragged nested sequences (which is a list-or-tuple of lists-or-tuples-or ndarrays with different lengths or shapes) is deprecated. If you meant to do this, you must specify 'dtype=object' when creating the ndarray.\n",
      "  return asarray(a).ndim\n",
      "d:\\Softwarez\\Anaconda\\envs\\emotion_research\\lib\\site-packages\\numpy\\core\\fromnumeric.py:2007: VisibleDeprecationWarning: Creating an ndarray from ragged nested sequences (which is a list-or-tuple of lists-or-tuples-or ndarrays with different lengths or shapes) is deprecated. If you meant to do this, you must specify 'dtype=object' when creating the ndarray.\n",
      "  result = asarray(a).shape\n",
      "d:\\Softwarez\\Anaconda\\envs\\emotion_research\\lib\\site-packages\\numpy\\core\\fromnumeric.py:3199: VisibleDeprecationWarning: Creating an ndarray from ragged nested sequences (which is a list-or-tuple of lists-or-tuples-or ndarrays with different lengths or shapes) is deprecated. If you meant to do this, you must specify 'dtype=object' when creating the ndarray.\n",
      "  return asarray(a).ndim\n",
      "d:\\Softwarez\\Anaconda\\envs\\emotion_research\\lib\\site-packages\\numpy\\core\\fromnumeric.py:2007: VisibleDeprecationWarning: Creating an ndarray from ragged nested sequences (which is a list-or-tuple of lists-or-tuples-or ndarrays with different lengths or shapes) is deprecated. If you meant to do this, you must specify 'dtype=object' when creating the ndarray.\n",
      "  result = asarray(a).shape\n",
      "d:\\Softwarez\\Anaconda\\envs\\emotion_research\\lib\\site-packages\\numpy\\core\\fromnumeric.py:3199: VisibleDeprecationWarning: Creating an ndarray from ragged nested sequences (which is a list-or-tuple of lists-or-tuples-or ndarrays with different lengths or shapes) is deprecated. If you meant to do this, you must specify 'dtype=object' when creating the ndarray.\n",
      "  return asarray(a).ndim\n",
      "d:\\Softwarez\\Anaconda\\envs\\emotion_research\\lib\\site-packages\\numpy\\core\\fromnumeric.py:2007: VisibleDeprecationWarning: Creating an ndarray from ragged nested sequences (which is a list-or-tuple of lists-or-tuples-or ndarrays with different lengths or shapes) is deprecated. If you meant to do this, you must specify 'dtype=object' when creating the ndarray.\n",
      "  result = asarray(a).shape\n"
     ]
    },
    {
     "data": {
      "text/html": [
       "<div>\n",
       "<style scoped>\n",
       "    .dataframe tbody tr th:only-of-type {\n",
       "        vertical-align: middle;\n",
       "    }\n",
       "\n",
       "    .dataframe tbody tr th {\n",
       "        vertical-align: top;\n",
       "    }\n",
       "\n",
       "    .dataframe thead th {\n",
       "        text-align: right;\n",
       "    }\n",
       "</style>\n",
       "<table border=\"1\" class=\"dataframe\">\n",
       "  <thead>\n",
       "    <tr style=\"text-align: right;\">\n",
       "      <th></th>\n",
       "      <th>Word</th>\n",
       "      <th>Dialect</th>\n",
       "      <th>Emotion</th>\n",
       "    </tr>\n",
       "  </thead>\n",
       "  <tbody>\n",
       "    <tr>\n",
       "      <th>0</th>\n",
       "      <td>هكرهك</td>\n",
       "      <td>EGY</td>\n",
       "      <td>anger</td>\n",
       "    </tr>\n",
       "    <tr>\n",
       "      <th>1</th>\n",
       "      <td>تخرس</td>\n",
       "      <td>EGY</td>\n",
       "      <td>anger</td>\n",
       "    </tr>\n",
       "    <tr>\n",
       "      <th>2</th>\n",
       "      <td>اخرس</td>\n",
       "      <td>EGY</td>\n",
       "      <td>anger</td>\n",
       "    </tr>\n",
       "    <tr>\n",
       "      <th>3</th>\n",
       "      <td>جلنف</td>\n",
       "      <td>EGY</td>\n",
       "      <td>anger</td>\n",
       "    </tr>\n",
       "    <tr>\n",
       "      <th>4</th>\n",
       "      <td>بزيئ</td>\n",
       "      <td>EGY</td>\n",
       "      <td>anger</td>\n",
       "    </tr>\n",
       "    <tr>\n",
       "      <th>5</th>\n",
       "      <td>اندال</td>\n",
       "      <td>EGY</td>\n",
       "      <td>anger</td>\n",
       "    </tr>\n",
       "    <tr>\n",
       "      <th>6</th>\n",
       "      <td>ندل</td>\n",
       "      <td>EGY</td>\n",
       "      <td>anger</td>\n",
       "    </tr>\n",
       "    <tr>\n",
       "      <th>7</th>\n",
       "      <td>عرص</td>\n",
       "      <td>EGY</td>\n",
       "      <td>anger</td>\n",
       "    </tr>\n",
       "    <tr>\n",
       "      <th>8</th>\n",
       "      <td>وسخ</td>\n",
       "      <td>EGY</td>\n",
       "      <td>anger</td>\n",
       "    </tr>\n",
       "    <tr>\n",
       "      <th>9</th>\n",
       "      <td>تزغرط</td>\n",
       "      <td>EGY</td>\n",
       "      <td>joy</td>\n",
       "    </tr>\n",
       "    <tr>\n",
       "      <th>10</th>\n",
       "      <td>هيرضى</td>\n",
       "      <td>EGY</td>\n",
       "      <td>joy</td>\n",
       "    </tr>\n",
       "    <tr>\n",
       "      <th>11</th>\n",
       "      <td>تمزحو</td>\n",
       "      <td>EGY</td>\n",
       "      <td>joy</td>\n",
       "    </tr>\n",
       "    <tr>\n",
       "      <th>12</th>\n",
       "      <td>ميحرمناش</td>\n",
       "      <td>EGY</td>\n",
       "      <td>joy</td>\n",
       "    </tr>\n",
       "    <tr>\n",
       "      <th>13</th>\n",
       "      <td>متشكر</td>\n",
       "      <td>EGY</td>\n",
       "      <td>joy</td>\n",
       "    </tr>\n",
       "    <tr>\n",
       "      <th>14</th>\n",
       "      <td>هتستمتع</td>\n",
       "      <td>EGY</td>\n",
       "      <td>joy</td>\n",
       "    </tr>\n",
       "    <tr>\n",
       "      <th>15</th>\n",
       "      <td>هفرح</td>\n",
       "      <td>EGY</td>\n",
       "      <td>joy</td>\n",
       "    </tr>\n",
       "    <tr>\n",
       "      <th>16</th>\n",
       "      <td>هتضحك</td>\n",
       "      <td>EGY</td>\n",
       "      <td>joy</td>\n",
       "    </tr>\n",
       "    <tr>\n",
       "      <th>17</th>\n",
       "      <td>مريحني</td>\n",
       "      <td>EGY</td>\n",
       "      <td>joy</td>\n",
       "    </tr>\n",
       "    <tr>\n",
       "      <th>18</th>\n",
       "      <td>حزنان</td>\n",
       "      <td>EGY</td>\n",
       "      <td>sadness</td>\n",
       "    </tr>\n",
       "    <tr>\n",
       "      <th>19</th>\n",
       "      <td>مبزعلش</td>\n",
       "      <td>EGY</td>\n",
       "      <td>sadness</td>\n",
       "    </tr>\n",
       "    <tr>\n",
       "      <th>20</th>\n",
       "      <td>مخنوق</td>\n",
       "      <td>EGY</td>\n",
       "      <td>sadness</td>\n",
       "    </tr>\n",
       "    <tr>\n",
       "      <th>21</th>\n",
       "      <td>اتبكي</td>\n",
       "      <td>EGY</td>\n",
       "      <td>sadness</td>\n",
       "    </tr>\n",
       "    <tr>\n",
       "      <th>22</th>\n",
       "      <td>يبكو</td>\n",
       "      <td>EGY</td>\n",
       "      <td>sadness</td>\n",
       "    </tr>\n",
       "    <tr>\n",
       "      <th>23</th>\n",
       "      <td>هعيط</td>\n",
       "      <td>EGY</td>\n",
       "      <td>sadness</td>\n",
       "    </tr>\n",
       "    <tr>\n",
       "      <th>24</th>\n",
       "      <td>نكدية</td>\n",
       "      <td>EGY</td>\n",
       "      <td>sadness</td>\n",
       "    </tr>\n",
       "    <tr>\n",
       "      <th>25</th>\n",
       "      <td>مصحتش</td>\n",
       "      <td>EGY</td>\n",
       "      <td>sadness</td>\n",
       "    </tr>\n",
       "    <tr>\n",
       "      <th>26</th>\n",
       "      <td>مضيقاني</td>\n",
       "      <td>EGY</td>\n",
       "      <td>sadness</td>\n",
       "    </tr>\n",
       "    <tr>\n",
       "      <th>27</th>\n",
       "      <td>متزعلش</td>\n",
       "      <td>EGY</td>\n",
       "      <td>sadness</td>\n",
       "    </tr>\n",
       "    <tr>\n",
       "      <th>28</th>\n",
       "      <td>بتضايقنى</td>\n",
       "      <td>EGY</td>\n",
       "      <td>sadness</td>\n",
       "    </tr>\n",
       "    <tr>\n",
       "      <th>29</th>\n",
       "      <td>مصخره</td>\n",
       "      <td>GLF</td>\n",
       "      <td>anger</td>\n",
       "    </tr>\n",
       "  </tbody>\n",
       "</table>\n",
       "</div>"
      ],
      "text/plain": [
       "        Word Dialect  Emotion\n",
       "0      هكرهك     EGY    anger\n",
       "1       تخرس     EGY    anger\n",
       "2       اخرس     EGY    anger\n",
       "3       جلنف     EGY    anger\n",
       "4       بزيئ     EGY    anger\n",
       "5      اندال     EGY    anger\n",
       "6        ندل     EGY    anger\n",
       "7        عرص     EGY    anger\n",
       "8        وسخ     EGY    anger\n",
       "9      تزغرط     EGY      joy\n",
       "10     هيرضى     EGY      joy\n",
       "11     تمزحو     EGY      joy\n",
       "12  ميحرمناش     EGY      joy\n",
       "13     متشكر     EGY      joy\n",
       "14   هتستمتع     EGY      joy\n",
       "15      هفرح     EGY      joy\n",
       "16     هتضحك     EGY      joy\n",
       "17    مريحني     EGY      joy\n",
       "18     حزنان     EGY  sadness\n",
       "19    مبزعلش     EGY  sadness\n",
       "20     مخنوق     EGY  sadness\n",
       "21     اتبكي     EGY  sadness\n",
       "22      يبكو     EGY  sadness\n",
       "23      هعيط     EGY  sadness\n",
       "24     نكدية     EGY  sadness\n",
       "25     مصحتش     EGY  sadness\n",
       "26   مضيقاني     EGY  sadness\n",
       "27    متزعلش     EGY  sadness\n",
       "28  بتضايقنى     EGY  sadness\n",
       "29     مصخره     GLF    anger"
      ]
     },
     "execution_count": 387,
     "metadata": {},
     "output_type": "execute_result"
    }
   ],
   "source": [
    "# Add dialects\n",
    "lx = pd.DataFrame(columns=[\"Word\", \"Dialect\", \"Emotion\"])\n",
    "for path in glob(\"dialect_lexicon/*\"):\n",
    "    with open(path, \"r\", encoding=\"utf8\") as file:\n",
    "        dialect, emotion = Path(path).stem.split(\"_\")\n",
    "        temp = pd.DataFrame(columns=[\"Word\", \"Dialect\", \"Emotion\"])\n",
    "        temp[[\"Word\", \"Dialect\", \"Emotion\"]] = [[line.replace(\"\\n\", \"\") for line in file.readlines()], dialect, emotion]\n",
    "        lx = pd.concat([lx, temp])\n",
    "\n",
    "# MSA\n",
    "emotions = {\"anger\", \"joy\", \"sadness\", \"disgust\", \"surprise\", \"fear\"}\n",
    "MSA = pd.DataFrame.from_dict(get_arabic_lexicon_data(), orient=\"index\") \\\n",
    "    .T \\\n",
    "    .melt(value_vars=emotions, var_name=\"Emotion\", value_name=\"Word\") \\\n",
    "    .dropna()\n",
    "\n",
    "# Finish lx\n",
    "lx.reset_index(inplace=True, drop=True)\n",
    "lx.head(30)"
   ]
  },
  {
   "cell_type": "markdown",
   "metadata": {},
   "source": [
    "# Training utils"
   ]
  },
  {
   "cell_type": "code",
   "execution_count": 432,
   "metadata": {},
   "outputs": [],
   "source": [
    "def generate_classifier(\n",
    "        lx: pd.DataFrame, \n",
    "        MSA: pd.DataFrame, \n",
    "        emotion: str, \n",
    "        add_MSA_data: bool=False, \n",
    "        add_other_data: bool=False\n",
    "    ) -> MultinomialNB:\n",
    "    emotions = {\"anger\", \"joy\", \"sadness\", \"disgust\", \"surprise\", \"fear\"}\n",
    "    assert emotion in emotions, f\"{emotion} is not {emotions}\"\n",
    "\n",
    "    x, y = lx[lx[\"Emotion\"] == \"anger\"][[\"Word\", \"Dialect\"]].values.T\n",
    "\n",
    "    if add_MSA_data:\n",
    "        # Add MSA to all dialects (Messes up results!)\n",
    "        x_msa = MSA[MSA[\"Emotion\"] == \"anger\"][\"Word\"].values.T\n",
    "        for dialect in np.unique(y):\n",
    "            x, y = np.concatenate((x, x_msa)), np.concatenate((y, len(x_msa) * [dialect]))\n",
    "\n",
    "    if add_other_data:\n",
    "        # Add other data\n",
    "        other = lx[lx[\"Emotion\"] != \"anger\"][\"Word\"].values\n",
    "        x, y = np.concatenate((x, other)), np.concatenate((y, len(other) * [\"OTHER\"]))\n",
    "    \n",
    "    print(\"Input data: \", np.unique(y, return_counts=True))\n",
    "\n",
    "    clf = Pipeline([\n",
    "        ('vect', CountVectorizer()),\n",
    "        ('tfidf', TfidfTransformer()),\n",
    "        ('clf', MultinomialNB()),\n",
    "    ])\n",
    "\n",
    "    clf.fit(x, y)\n",
    "    return clf"
   ]
  },
  {
   "cell_type": "markdown",
   "metadata": {},
   "source": [
    "# Results"
   ]
  },
  {
   "cell_type": "code",
   "execution_count": 436,
   "metadata": {},
   "outputs": [],
   "source": [
    "test = [\n",
    "    \"غضب\",\n",
    "    \"شخص\",\n",
    "    \"نذل\", # This word is in the GLF lexicon\n",
    "    \"هكرهك\", # This word is in the EGY lexicon\n",
    "]\n"
   ]
  },
  {
   "cell_type": "markdown",
   "metadata": {},
   "source": [
    "### just lexicon"
   ]
  },
  {
   "cell_type": "code",
   "execution_count": 437,
   "metadata": {},
   "outputs": [
    {
     "name": "stdout",
     "output_type": "stream",
     "text": [
      "Input data:  (array(['EGY', 'GLF'], dtype=object), array([ 9, 15], dtype=int64))\n"
     ]
    },
    {
     "data": {
      "text/plain": [
       "(array(['GLF', 'GLF', 'GLF', 'EGY'], dtype='<U3'),\n",
       " array([[0.375     , 0.625     ],\n",
       "        [0.375     , 0.625     ],\n",
       "        [0.375     , 0.625     ],\n",
       "        [0.58646617, 0.41353383]]))"
      ]
     },
     "execution_count": 437,
     "metadata": {},
     "output_type": "execute_result"
    }
   ],
   "source": [
    "anger_clf = generate_classifier(lx, MSA, \"anger\")\n",
    "anger_clf.predict(test), anger_clf.predict_proba(test)"
   ]
  },
  {
   "cell_type": "markdown",
   "metadata": {},
   "source": [
    "### add OTHER class"
   ]
  },
  {
   "cell_type": "code",
   "execution_count": 438,
   "metadata": {},
   "outputs": [
    {
     "name": "stdout",
     "output_type": "stream",
     "text": [
      "Input data:  (array(['EGY', 'GLF', 'OTHER'], dtype=object), array([ 9, 15, 37], dtype=int64))\n"
     ]
    },
    {
     "data": {
      "text/plain": [
       "(array(['OTHER', 'OTHER', 'OTHER', 'OTHER'], dtype='<U5'),\n",
       " array([[0.14754098, 0.24590164, 0.60655738],\n",
       "        [0.14754098, 0.24590164, 0.60655738],\n",
       "        [0.14754098, 0.24590164, 0.60655738],\n",
       "        [0.30904279, 0.2372039 , 0.45375331]]))"
      ]
     },
     "execution_count": 438,
     "metadata": {},
     "output_type": "execute_result"
    }
   ],
   "source": [
    "anger_clf = generate_classifier(lx, MSA, \"anger\", add_other_data=True)\n",
    "anger_clf.predict(test), anger_clf.predict_proba(test)"
   ]
  },
  {
   "cell_type": "markdown",
   "metadata": {},
   "source": [
    "### add MSA data to lexicon"
   ]
  },
  {
   "cell_type": "code",
   "execution_count": 439,
   "metadata": {},
   "outputs": [
    {
     "name": "stdout",
     "output_type": "stream",
     "text": [
      "Input data:  (array(['EGY', 'GLF'], dtype=object), array([1101, 1107], dtype=int64))\n"
     ]
    },
    {
     "data": {
      "text/plain": [
       "(array(['GLF', 'GLF', 'GLF', 'EGY'], dtype='<U3'),\n",
       " array([[0.49949357, 0.50050643],\n",
       "        [0.4986413 , 0.5013587 ],\n",
       "        [0.4986413 , 0.5013587 ],\n",
       "        [0.66621636, 0.33378364]]))"
      ]
     },
     "execution_count": 439,
     "metadata": {},
     "output_type": "execute_result"
    }
   ],
   "source": [
    "anger_clf = generate_classifier(lx, MSA, \"anger\", add_MSA_data=True)\n",
    "anger_clf.predict(test), anger_clf.predict_proba(test)"
   ]
  },
  {
   "cell_type": "markdown",
   "metadata": {},
   "source": [
    "### add OTHER class\n",
    "### add MSA data to lexicon"
   ]
  },
  {
   "cell_type": "code",
   "execution_count": 440,
   "metadata": {},
   "outputs": [
    {
     "name": "stdout",
     "output_type": "stream",
     "text": [
      "Input data:  (array(['EGY', 'GLF', 'OTHER'], dtype=object), array([1101, 1107,   37], dtype=int64))\n"
     ]
    },
    {
     "data": {
      "text/plain": [
       "(array(['GLF', 'GLF', 'GLF', 'EGY'], dtype='<U5'),\n",
       " array([[0.49854036, 0.49958355, 0.00187609],\n",
       "        [0.49042316, 0.49309577, 0.01648107],\n",
       "        [0.49042316, 0.49309577, 0.01648107],\n",
       "        [0.648323  , 0.32483981, 0.02683719]]))"
      ]
     },
     "execution_count": 440,
     "metadata": {},
     "output_type": "execute_result"
    }
   ],
   "source": [
    "anger_clf = generate_classifier(lx, MSA, \"anger\", add_other_data=True, add_MSA_data=True)\n",
    "anger_clf.predict(test), anger_clf.predict_proba(test)"
   ]
  },
  {
   "cell_type": "code",
   "execution_count": null,
   "metadata": {},
   "outputs": [],
   "source": []
  }
 ],
 "metadata": {
  "interpreter": {
   "hash": "b146cda2b5e37bb330cb0c5ca2b4b0706c5eef902c6118ca3e1c5f676b50d986"
  },
  "kernelspec": {
   "display_name": "Python 3.10.4 ('emotion_research')",
   "language": "python",
   "name": "python3"
  },
  "language_info": {
   "codemirror_mode": {
    "name": "ipython",
    "version": 3
   },
   "file_extension": ".py",
   "mimetype": "text/x-python",
   "name": "python",
   "nbconvert_exporter": "python",
   "pygments_lexer": "ipython3",
   "version": "3.10.4"
  },
  "orig_nbformat": 4
 },
 "nbformat": 4,
 "nbformat_minor": 2
}
